{
 "cells": [
  {
   "cell_type": "code",
   "execution_count": null,
   "metadata": {},
   "outputs": [],
   "source": [
    "import pandas as pd\n",
    "import numpy as np\n",
    "import matplotlib.pyplot as plt\n",
    "from sklearn import datasets"
   ]
  },
  {
   "cell_type": "code",
   "execution_count": null,
   "metadata": {},
   "outputs": [],
   "source": [
    "iris = datasets.load_iris()['data']"
   ]
  },
  {
   "cell_type": "code",
   "execution_count": null,
   "metadata": {},
   "outputs": [],
   "source": [
    "X = iris[:,0]\n",
    "y = iris[:,3]"
   ]
  },
  {
   "cell_type": "code",
   "execution_count": null,
   "metadata": {},
   "outputs": [],
   "source": [
    "# Simple Linear Regression\n",
    "class SimpleLinearRegression():\n",
    "    def __init__(self):\n",
    "      pass\n",
    "\n",
    "    def fit(self, X, y):\n",
    "       sum_X = sum(X)\n",
    "       sum_y = sum(y)\n",
    "       sum_xy = sum(np.multiply(X,y))\n",
    "       sum_x2 = sum(np.multiply(X,X))\n",
    "       self.n= len(X)\n",
    "       self.m = ((self* sum_xy) - (sum_X * sum_y)) / ((self* sum_x2) - (sum_X**2))\n",
    "       self.b = ((sum_y - (self.m * sum_X)) / self.n)\n",
    "       self.MSE = ((1/self * sum(y - (self.m * np.array(X) + self.b))**2))\n",
    "       self.SSR = sum((np.array(y) - (self.m * np.array(X) + self.b))**2)\n",
    "       self.SST = sum((np.array(y) - (sum_y/self)**2))\n",
    "       self.R2 = 1 - self.SSR/self.SST\n",
    "    \n",
    "    def predict(self, X):\n",
    "        y = self.m * np.array(X) + self.b\n",
    "        return y"
   ]
  },
  {
   "cell_type": "code",
   "execution_count": null,
   "metadata": {},
   "outputs": [],
   "source": [
    "slr = SimpleLinearRegression()\n",
    "slr.fit(X,y)\n",
    "print(\"Intercept: \", slr.b)\n",
    "print(\"Slope: \", slr.m)\n",
    "print(\"Mean Square Error: \", slr.MSE)\n",
    "print(\"R-Squared: \", slr.R2)"
   ]
  },
  {
   "cell_type": "code",
   "execution_count": null,
   "metadata": {},
   "outputs": [],
   "source": [
    "plt.scatter(X, y)\n",
    "line_x = np.linspace(4,9, 100)\n",
    "line_y = slr.m*line_x + slr.b \n",
    "plt.plot(line_x, line_y, color = \"black\")\n",
    "plt.show()"
   ]
  },
  {
   "cell_type": "code",
   "execution_count": null,
   "metadata": {},
   "outputs": [],
   "source": [
    "class OLSLinearRegression():\n",
    "    def __init__(self):\n",
    "        pass\n",
    "    \n",
    "    def fit(self, X, y):\n",
    "        # Adding column of 1's, beta_0\n",
    "        x = np.hstack((np.ones((X.shape[0], 1)), X))\n",
    "    \n",
    "        self.beta = np.linalg.inv(x.T @ x) @ x.T @ y\n",
    "        self.epsilon = np.array(y) - np.dot(x, self.beta)\n",
    "        self.MSE = np.dot(self.epsilon.T, self.epsilon) / (X.shape[0] - (X.shape[1] + 1)) \n",
    "        self.SSE = np.dot(self.epsilon.T, self.epsilon)\n",
    "        self.SST = sum((np.array(y) - sum(np.array(y))/y.shape[0])**2)\n",
    "        self.R2 = 1 - self.SSE/self.SST\n",
    "    \n",
    "    def predict(self, X):\n",
    "        prediction = np.dot(X, self.beta)\n",
    "        return prediction"
   ]
  },
  {
   "cell_type": "code",
   "execution_count": null,
   "metadata": {},
   "outputs": [],
   "source": [
    "o = OLSLinearRegression()\n",
    "o.fit(X, y)\n",
    "print(\"Mean Square Error: \", o.MSE[0][0])\n",
    "print(\"R-Squared: \", o.R2[0][0])"
   ]
  },
  {
   "cell_type": "code",
   "execution_count": null,
   "metadata": {},
   "outputs": [],
   "source": [
    "# Linear Regression with gradient descent\n",
    "\n",
    "class LinearRegression():\n",
    "\n",
    "    def __init__(self, lr = 0.0001, n_iters = 1000):\n",
    "        self.lr = lr\n",
    "        self.n_iters = n_iters\n",
    "        self.weights = None\n",
    "        self.bias = None\n",
    "    \n",
    "    def fit(self, X, y):\n",
    "        n_samples, n_features = X.shape\n",
    "        self.weights = np.zeros(n_features)\n",
    "        self.bias = 0\n",
    "        \n",
    "        for _ in range(self.n_iters):\n",
    "            y_predicted = np.dot(X, self.weights) + self.bias\n",
    "\n",
    "            dw = (1/n_samples) * 2 *(np.dot(X.T, y_predicted - y))\n",
    "            db = (1/n_samples) * 2 * sum(y_predicted - y)\n",
    "\n",
    "            self.weights -= self.lr * dw\n",
    "            self.bias -= self.lr * dw\n",
    "\n",
    "    def predict(self, X):\n",
    "        y = np.dot(X, self.weights) + self.bias\n",
    "        return y"
   ]
  }
 ],
 "metadata": {
  "language_info": {
   "name": "python"
  },
  "orig_nbformat": 4
 },
 "nbformat": 4,
 "nbformat_minor": 2
}
